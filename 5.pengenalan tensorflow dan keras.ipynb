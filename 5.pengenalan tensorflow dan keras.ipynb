{
  "nbformat": 4,
  "nbformat_minor": 0,
  "metadata": {
    "colab": {
      "provenance": [],
      "authorship_tag": "ABX9TyPNQk90ASb3Uw4ay2A5Pyl/",
      "include_colab_link": true
    },
    "kernelspec": {
      "name": "python3",
      "display_name": "Python 3"
    },
    "language_info": {
      "name": "python"
    }
  },
  "cells": [
    {
      "cell_type": "markdown",
      "metadata": {
        "id": "view-in-github",
        "colab_type": "text"
      },
      "source": [
        "<a href=\"https://colab.research.google.com/github/rafiff18/Machine-Learning-Ti-2b/blob/main/5.pengenalan%20tensorflow%20dan%20keras.ipynb\" target=\"_parent\"><img src=\"https://colab.research.google.com/assets/colab-badge.svg\" alt=\"Open In Colab\"/></a>"
      ]
    },
    {
      "cell_type": "markdown",
      "source": [],
      "metadata": {
        "id": "h7h8u_AUsDWQ"
      }
    },
    {
      "cell_type": "code",
      "execution_count": 2,
      "metadata": {
        "id": "9TC65-tJrNvk"
      },
      "outputs": [],
      "source": [
        "import tensorflow as tf\n",
        "from tensorflow import keras"
      ]
    },
    {
      "cell_type": "code",
      "source": [],
      "metadata": {
        "id": "ZduL5XLFsNEw"
      },
      "execution_count": null,
      "outputs": []
    },
    {
      "cell_type": "markdown",
      "source": [
        "star dataset_klasifikasi"
      ],
      "metadata": {
        "id": "t9OQlnfosm-I"
      }
    },
    {
      "cell_type": "code",
      "source": [
        "import pandas as pd\n",
        "import numpy as np\n",
        "import matplotlib.pyplot as plt\n",
        "import tensorflow as tf\n",
        "from tensorflow import keras\n",
        "from sklearn.model_selection import train_test_split\n",
        "from sklearn.preprocessing import LabelEncoder, StandardScaler\n",
        "from tensorflow.keras.utils import to_categorical\n"
      ],
      "metadata": {
        "id": "DUgLk19fsqcm"
      },
      "execution_count": 3,
      "outputs": []
    },
    {
      "cell_type": "code",
      "source": [
        "# Load dataset CSV\n",
        "df = pd.read_csv('6 class csv.csv')  # Ganti dengan path lokal jika perlu\n",
        "print(df.head())\n"
      ],
      "metadata": {
        "colab": {
          "base_uri": "https://localhost:8080/"
        },
        "id": "5w69f6YHvu-N",
        "outputId": "65cce7b9-203e-45fc-fca8-7c803a784af5"
      },
      "execution_count": 5,
      "outputs": [
        {
          "output_type": "stream",
          "name": "stdout",
          "text": [
            "   Temperature (K)  Luminosity(L/Lo)  Radius(R/Ro)  Absolute magnitude(Mv)  \\\n",
            "0             3068          0.002400        0.1700                   16.12   \n",
            "1             3042          0.000500        0.1542                   16.60   \n",
            "2             2600          0.000300        0.1020                   18.70   \n",
            "3             2800          0.000200        0.1600                   16.65   \n",
            "4             1939          0.000138        0.1030                   20.06   \n",
            "\n",
            "   Star type Star color Spectral Class  \n",
            "0          0        Red              M  \n",
            "1          0        Red              M  \n",
            "2          0        Red              M  \n",
            "3          0        Red              M  \n",
            "4          0        Red              M  \n"
          ]
        }
      ]
    },
    {
      "cell_type": "code",
      "source": [
        "# Pisahkan fitur dan label\n",
        "X_raw = df.iloc[:, :-1]\n",
        "y = df.iloc[:, -1]\n",
        "\n",
        "# Konversi semua kolom kategorikal pada X menjadi one-hot encoding\n",
        "X = pd.get_dummies(X_raw)\n",
        "\n",
        "# Encode label ke angka\n",
        "from sklearn.preprocessing import LabelEncoder\n",
        "from tensorflow.keras.utils import to_categorical\n",
        "\n",
        "label_encoder = LabelEncoder()\n",
        "y_encoded = label_encoder.fit_transform(y)\n",
        "y_cat = to_categorical(y_encoded)\n",
        "class_names = label_encoder.classes_\n",
        "\n",
        "# Normalisasi fitur numerik\n",
        "from sklearn.preprocessing import StandardScaler\n",
        "\n",
        "scaler = StandardScaler()\n",
        "X_scaled = scaler.fit_transform(X)\n"
      ],
      "metadata": {
        "id": "roz34Jkhv8vt"
      },
      "execution_count": 10,
      "outputs": []
    },
    {
      "cell_type": "code",
      "source": [
        "X_train_full, X_test, y_train_full, y_test = train_test_split(X_scaled, y_cat, test_size=0.2, random_state=42)\n",
        "X_valid, X_train = X_train_full[:500], X_train_full[500:]\n",
        "y_valid, y_train = y_train_full[:500], y_train_full[500:]\n"
      ],
      "metadata": {
        "id": "ymfgvL0Gv9Hj"
      },
      "execution_count": 11,
      "outputs": []
    },
    {
      "cell_type": "code",
      "source": [
        "keras.backend.clear_session()\n",
        "np.random.seed(42)\n",
        "tf.random.set_seed(42)\n",
        "\n",
        "model = keras.models.Sequential([\n",
        "    keras.layers.Dense(300, activation=\"relu\", input_shape=[X.shape[1]]),\n",
        "    keras.layers.Dense(100, activation=\"relu\"),\n",
        "    keras.layers.Dense(len(class_names), activation=\"softmax\")\n",
        "])\n"
      ],
      "metadata": {
        "colab": {
          "base_uri": "https://localhost:8080/"
        },
        "id": "d-ytIirOwi_x",
        "outputId": "3a9a7c1d-061b-4885-d08f-66f8363a9a2f"
      },
      "execution_count": 12,
      "outputs": [
        {
          "output_type": "stream",
          "name": "stderr",
          "text": [
            "/usr/local/lib/python3.11/dist-packages/keras/src/layers/core/dense.py:87: UserWarning: Do not pass an `input_shape`/`input_dim` argument to a layer. When using Sequential models, prefer using an `Input(shape)` object as the first layer in the model instead.\n",
            "  super().__init__(activity_regularizer=activity_regularizer, **kwargs)\n"
          ]
        }
      ]
    },
    {
      "cell_type": "code",
      "source": [
        "from sklearn.model_selection import train_test_split\n",
        "\n",
        "# Split data menjadi training dan validasi (80:20)\n",
        "X_train, X_valid, y_train, y_valid = train_test_split(X_scaled, y_cat, test_size=0.2, random_state=42)\n",
        "\n",
        "# Cek ukuran datanya\n",
        "print(\"Ukuran X_train:\", X_train.shape)\n",
        "print(\"Ukuran y_train:\", y_train.shape)\n"
      ],
      "metadata": {
        "colab": {
          "base_uri": "https://localhost:8080/"
        },
        "id": "fVINmHo7wxo9",
        "outputId": "b39f17c8-7f2a-4838-d04b-a40ed7b54435"
      },
      "execution_count": 14,
      "outputs": [
        {
          "output_type": "stream",
          "name": "stdout",
          "text": [
            "Ukuran X_train: (192, 24)\n",
            "Ukuran y_train: (192, 7)\n"
          ]
        }
      ]
    },
    {
      "cell_type": "code",
      "source": [
        "model.compile(loss=\"categorical_crossentropy\",\n",
        "              optimizer=\"sgd\",\n",
        "              metrics=[\"accuracy\"])\n",
        "\n",
        "history = model.fit(X_train, y_train, epochs=10,\n",
        "                    validation_data=(X_valid, y_valid))\n",
        "\n"
      ],
      "metadata": {
        "colab": {
          "base_uri": "https://localhost:8080/"
        },
        "id": "H4O4xSJowkhV",
        "outputId": "6c86d011-6e96-410b-a62b-d063b1d6dda7"
      },
      "execution_count": 16,
      "outputs": [
        {
          "output_type": "stream",
          "name": "stdout",
          "text": [
            "Epoch 1/10\n",
            "\u001b[1m6/6\u001b[0m \u001b[32m━━━━━━━━━━━━━━━━━━━━\u001b[0m\u001b[37m\u001b[0m \u001b[1m1s\u001b[0m 60ms/step - accuracy: 0.9090 - loss: 0.5078 - val_accuracy: 0.8958 - val_loss: 0.7053\n",
            "Epoch 2/10\n",
            "\u001b[1m6/6\u001b[0m \u001b[32m━━━━━━━━━━━━━━━━━━━━\u001b[0m\u001b[37m\u001b[0m \u001b[1m0s\u001b[0m 24ms/step - accuracy: 0.9090 - loss: 0.4958 - val_accuracy: 0.8958 - val_loss: 0.6955\n",
            "Epoch 3/10\n",
            "\u001b[1m6/6\u001b[0m \u001b[32m━━━━━━━━━━━━━━━━━━━━\u001b[0m\u001b[37m\u001b[0m \u001b[1m0s\u001b[0m 18ms/step - accuracy: 0.9090 - loss: 0.4846 - val_accuracy: 0.8958 - val_loss: 0.6862\n",
            "Epoch 4/10\n",
            "\u001b[1m6/6\u001b[0m \u001b[32m━━━━━━━━━━━━━━━━━━━━\u001b[0m\u001b[37m\u001b[0m \u001b[1m0s\u001b[0m 17ms/step - accuracy: 0.9090 - loss: 0.4741 - val_accuracy: 0.8958 - val_loss: 0.6775\n",
            "Epoch 5/10\n",
            "\u001b[1m6/6\u001b[0m \u001b[32m━━━━━━━━━━━━━━━━━━━━\u001b[0m\u001b[37m\u001b[0m \u001b[1m0s\u001b[0m 17ms/step - accuracy: 0.9090 - loss: 0.4642 - val_accuracy: 0.8958 - val_loss: 0.6694\n",
            "Epoch 6/10\n",
            "\u001b[1m6/6\u001b[0m \u001b[32m━━━━━━━━━━━━━━━━━━━━\u001b[0m\u001b[37m\u001b[0m \u001b[1m0s\u001b[0m 19ms/step - accuracy: 0.9090 - loss: 0.4549 - val_accuracy: 0.8958 - val_loss: 0.6619\n",
            "Epoch 7/10\n",
            "\u001b[1m6/6\u001b[0m \u001b[32m━━━━━━━━━━━━━━━━━━━━\u001b[0m\u001b[37m\u001b[0m \u001b[1m0s\u001b[0m 21ms/step - accuracy: 0.9090 - loss: 0.4462 - val_accuracy: 0.8958 - val_loss: 0.6547\n",
            "Epoch 8/10\n",
            "\u001b[1m6/6\u001b[0m \u001b[32m━━━━━━━━━━━━━━━━━━━━\u001b[0m\u001b[37m\u001b[0m \u001b[1m0s\u001b[0m 17ms/step - accuracy: 0.9090 - loss: 0.4379 - val_accuracy: 0.8958 - val_loss: 0.6479\n",
            "Epoch 9/10\n",
            "\u001b[1m6/6\u001b[0m \u001b[32m━━━━━━━━━━━━━━━━━━━━\u001b[0m\u001b[37m\u001b[0m \u001b[1m0s\u001b[0m 24ms/step - accuracy: 0.9114 - loss: 0.4302 - val_accuracy: 0.8958 - val_loss: 0.6417\n",
            "Epoch 10/10\n",
            "\u001b[1m6/6\u001b[0m \u001b[32m━━━━━━━━━━━━━━━━━━━━\u001b[0m\u001b[37m\u001b[0m \u001b[1m0s\u001b[0m 17ms/step - accuracy: 0.9114 - loss: 0.4228 - val_accuracy: 0.8958 - val_loss: 0.6359\n"
          ]
        }
      ]
    },
    {
      "cell_type": "code",
      "source": [
        "pd.DataFrame(history.history).plot(figsize=(8, 5))\n",
        "plt.grid(True)\n",
        "plt.gca().set_ylim(0, 1)\n",
        "plt.title(\"Kurva Pembelajaran\")\n",
        "plt.xlabel(\"Epoch\")\n",
        "plt.ylabel(\"Nilai\")\n",
        "plt.show()\n"
      ],
      "metadata": {
        "colab": {
          "base_uri": "https://localhost:8080/",
          "height": 447
        },
        "id": "p7Ivdda4wl7E",
        "outputId": "e015f0a8-c565-427a-a9d1-9fe2ce2bbe11"
      },
      "execution_count": 17,
      "outputs": [
        {
          "output_type": "display_data",
          "data": {
            "text/plain": [
              "<Figure size 800x500 with 1 Axes>"
            ],
            "image/png": "[encoded data removed]"
          },
          "metadata": {}
        }
      ]
    },
    {
      "cell_type": "code",
      "source": [
        "model.evaluate(X_test, y_test)\n"
      ],
      "metadata": {
        "colab": {
          "base_uri": "https://localhost:8080/"
        },
        "id": "QCG4ItRgw8tb",
        "outputId": "1db3db77-7ad0-4fa4-a12f-740444196f80"
      },
      "execution_count": 18,
      "outputs": [
        {
          "output_type": "stream",
          "name": "stdout",
          "text": [
            "\u001b[1m2/2\u001b[0m \u001b[32m━━━━━━━━━━━━━━━━━━━━\u001b[0m\u001b[37m\u001b[0m \u001b[1m0s\u001b[0m 27ms/step - accuracy: 0.8785 - loss: 0.7069\n"
          ]
        },
        {
          "output_type": "execute_result",
          "data": {
            "text/plain": [
              "[0.6358642578125, 0.8958333134651184]"
            ]
          },
          "metadata": {},
          "execution_count": 18
        }
      ]
    },
    {
      "cell_type": "code",
      "source": [
        "X_new = X_test[:10]\n",
        "y_proba = model.predict(X_new)\n",
        "y_pred = np.argmax(y_proba, axis=1)\n",
        "y_label = np.argmax(y_test[:10], axis=1)\n",
        "\n",
        "print(\"Prediksi:\", np.array(class_names)[y_pred])\n",
        "print(\"Sebenarnya:\", np.array(class_names)[y_label])\n"
      ],
      "metadata": {
        "colab": {
          "base_uri": "https://localhost:8080/"
        },
        "id": "ohGUVWQEw_7U",
        "outputId": "645c61c2-6483-4e56-9599-ad649bd9015f"
      },
      "execution_count": 22,
      "outputs": [
        {
          "output_type": "stream",
          "name": "stdout",
          "text": [
            "\u001b[1m1/1\u001b[0m \u001b[32m━━━━━━━━━━━━━━━━━━━━\u001b[0m\u001b[37m\u001b[0m \u001b[1m0s\u001b[0m 209ms/step\n",
            "Prediksi: ['B' 'M' 'A' 'O' 'O' 'M' 'O' 'B' 'M' 'B']\n",
            "Sebenarnya: ['B' 'M' 'K' 'O' 'O' 'K' 'B' 'B' 'M' 'B']\n"
          ]
        }
      ]
    },
    {
      "cell_type": "code",
      "source": [],
      "metadata": {
        "id": "KrNVPF-wxeTh"
      },
      "execution_count": null,
      "outputs": []
    }
  ]
}